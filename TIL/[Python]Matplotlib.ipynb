{
  "nbformat": 4,
  "nbformat_minor": 0,
  "metadata": {
    "colab": {
      "name": "[Python] Matplotlib.ipynb",
      "provenance": [],
      "authorship_tag": "ABX9TyPoQxxIdubsKsMdJ+WWEeVe",
      "include_colab_link": true
    },
    "kernelspec": {
      "name": "python3",
      "display_name": "Python 3"
    },
    "language_info": {
      "name": "python"
    }
  },
  "cells": [
    {
      "cell_type": "markdown",
      "metadata": {
        "id": "view-in-github",
        "colab_type": "text"
      },
      "source": [
        "<a href=\"https://colab.research.google.com/github/Yewon-dev/boostcamp-AI-Tech/blob/master/TIL/%5BPython%5DMatplotlib.ipynb\" target=\"_parent\"><img src=\"https://colab.research.google.com/assets/colab-badge.svg\" alt=\"Open In Colab\"/></a>"
      ]
    },
    {
      "cell_type": "markdown",
      "source": [
        "# Python & Matplotlib\n",
        "- `numpy`와 `scipy`를 베이스로 하여 다양한 라이브러리와 호환성이 좋음\n"
      ],
      "metadata": {
        "id": "Y9K7n18Zbh4J"
      }
    },
    {
      "cell_type": "code",
      "execution_count": 2,
      "metadata": {
        "colab": {
          "base_uri": "https://localhost:8080/"
        },
        "id": "Z6_WnPDUa1hh",
        "outputId": "9dc658d3-66d4-4c1f-97d6-cc7c04393f74"
      },
      "outputs": [
        {
          "output_type": "stream",
          "name": "stdout",
          "text": [
            "numpy version : 1.19.5\n",
            "matplotlib version : 3.2.2\n"
          ]
        }
      ],
      "source": [
        "import numpy as np\n",
        "import matplotlib as mpl"
      ]
    },
    {
      "cell_type": "code",
      "source": [
        "import matplotlib.pyplot as plt"
      ],
      "metadata": {
        "id": "Mdx1itVRb4y7"
      },
      "execution_count": 3,
      "outputs": []
    },
    {
      "cell_type": "markdown",
      "source": [
        "## 1. Basic\n",
        "matplot에서는 Figure이라는 큰 틀에 Axes라는 서브플롯을 추가해서 만든다."
      ],
      "metadata": {
        "id": "sz7EcDTCcQfN"
      }
    },
    {
      "cell_type": "code",
      "source": [
        "fig = plt.figure()\n",
        "axes = fig.add_subplot()\n",
        "plt.show()"
      ],
      "metadata": {
        "colab": {
          "base_uri": "https://localhost:8080/",
          "height": 269
        },
        "id": "dTfmKZVXciFA",
        "outputId": "87d94dbb-1bce-47fc-b6ad-0a9c359df304"
      },
      "execution_count": 5,
      "outputs": [
        {
          "output_type": "display_data",
          "data": {
            "image/png": "[encoded data removed]",
            "text/plain": [
              "<Figure size 432x288 with 1 Axes>"
            ]
          },
          "metadata": {
            "needs_background": "light"
          }
        }
      ]
    },
    {
      "cell_type": "code",
      "source": [
        "fig = plt.figure()\n",
        "axes = fig.add_subplot()\n",
        "\n",
        "x = np.array([1, 3, 4])\n",
        "\n",
        "plt.plot(x)\n",
        "plt.show()"
      ],
      "metadata": {
        "colab": {
          "base_uri": "https://localhost:8080/",
          "height": 265
        },
        "id": "0cx5YBiOeknb",
        "outputId": "a46cfd6f-4830-4171-9157-1e7d960b5878"
      },
      "execution_count": 9,
      "outputs": [
        {
          "output_type": "display_data",
          "data": {
            "image/png": "[encoded data removed]",
            "text/plain": [
              "<Figure size 432x288 with 1 Axes>"
            ]
          },
          "metadata": {
            "needs_background": "light"
          }
        }
      ]
    },
    {
      "cell_type": "code",
      "source": [
        "fig = plt.figure()\n",
        "\n",
        "x1 = [1, 2, 3]\n",
        "x2 = [3, 2, 1]\n",
        "\n",
        "ax1 = fig.add_subplot(211) \n",
        "ax2 = fig.add_subplot(212) \n",
        "\n",
        "ax1.plot(x1) \n",
        "ax2.plot(x2)\n",
        "plt.show()"
      ],
      "metadata": {
        "colab": {
          "base_uri": "https://localhost:8080/",
          "height": 265
        },
        "id": "FN4E5JLbe5TT",
        "outputId": "ffbfd14a-49eb-41a4-d444-be61eb5acc56"
      },
      "execution_count": 11,
      "outputs": [
        {
          "output_type": "display_data",
          "data": {
            "image/png": "[encoded data removed]",
            "text/plain": [
              "<Figure size 432x288 with 2 Axes>"
            ]
          },
          "metadata": {
            "needs_background": "light"
          }
        }
      ]
    },
    {
      "cell_type": "markdown",
      "source": [
        "## 3. Plot의 요소들 알아보기\n",
        "- 동시에 그래프를 그리게 되면 색상이 자동적으로 구분된다.\n",
        "- `legend()` : 그래프에 대한 label을 출력\n",
        "- `set_title()` : 그래프 제목\n",
        "- `suptitle()` : figure의 제목\n",
        "- `ticks` : 축의 범위\n",
        "- `ticklabels` : 축에 나타낼 텍스트\n",
        "- `annotate` : 주석"
      ],
      "metadata": {
        "id": "WFMXfrWUftRd"
      }
    },
    {
      "cell_type": "code",
      "source": [
        "fig = plt.figure()\n",
        "ax = fig.add_subplot(111) \n",
        "# 3개의 그래프 동시에 그리기\n",
        "ax.plot([1, 1, 1], color = 'green', label = '1') # 초록\n",
        "ax.plot([2, 2, 2], label = '2') # 파랑\n",
        "ax.plot([3, 3, 3], label = '3') # 주황\n",
        "\n",
        "\n",
        "ax.set_title('HI')\n",
        "ax.set_xticks([0, 1, 2])\n",
        "ax.set_xticklabels(['zero', 'one', 'two'])\n",
        "\n",
        "ax.annotate(s='This is Annotate', xy=(1, 2),\n",
        "           xytext=(1.2, 2.2), \n",
        "            arrowprops=dict(facecolor='black'))\n",
        "\n",
        "fig.suptitle('Yesss')\n",
        "ax.legend()\n",
        "plt.show()"
      ],
      "metadata": {
        "colab": {
          "base_uri": "https://localhost:8080/",
          "height": 294
        },
        "id": "W9bEETkIe45j",
        "outputId": "d4263dcf-a2b6-4aa6-c0f5-928ac0913e88"
      },
      "execution_count": 30,
      "outputs": [
        {
          "output_type": "display_data",
          "data": {
            "image/png": "[encoded data removed]",
            "text/plain": [
              "<Figure size 432x288 with 1 Axes>"
            ]
          },
          "metadata": {
            "needs_background": "light"
          }
        }
      ]
    }
  ]
}