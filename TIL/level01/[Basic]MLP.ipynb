{
  "nbformat": 4,
  "nbformat_minor": 0,
  "metadata": {
    "colab": {
      "name": "[Basic]MLP.ipynb",
      "provenance": [],
      "collapsed_sections": [],
      "authorship_tag": "ABX9TyMEEUhKIR8H0I0VDkUnIgLP",
      "include_colab_link": true
    },
    "kernelspec": {
      "name": "python3",
      "display_name": "Python 3"
    },
    "language_info": {
      "name": "python"
    },
    "accelerator": "GPU"
  },
  "cells": [
    {
      "cell_type": "markdown",
      "metadata": {
        "id": "view-in-github",
        "colab_type": "text"
      },
      "source": [
        "<a href=\"https://colab.research.google.com/github/Yewon-dev/boostcamp-AI-Tech/blob/master/TIL/%5BBasic%5DMLP.ipynb\" target=\"_parent\"><img src=\"https://colab.research.google.com/assets/colab-badge.svg\" alt=\"Open In Colab\"/></a>"
      ]
    },
    {
      "cell_type": "markdown",
      "source": [
        "## 🤓 To be a good deep learner.. \n",
        "\n",
        "- Implementation skills\n",
        "- Math Skills (Linear algebra, Probability)\n",
        "- Knowing a lot of recent Papers\n",
        "\n"
      ],
      "metadata": {
        "id": "9mj7ufZT4NPt"
      }
    },
    {
      "cell_type": "markdown",
      "source": [
        "# Linear Neural Networks\n",
        "- Data : $D = \\{(x_i,y_i)\\}^{N}_{i=1}$\n",
        "- Model : $\\hat{y} = wx+b$\n",
        "- Loss : $loss = \\frac{1}{N}\\sum_{i=1}^{N}{(y_i-\\hat{y_i})^2}$\n",
        "\n",
        "이때 우리는 loss를 최소화해야 하기 때문에, \n",
        "1. loss function을 w와 b에 대해 편미분하고\n",
        "2. 원래의 w, b값에 특정 step size($\\eta$)를 곱한 편미분값을 빼주면서 w와 b를 업데이트 해준다.\n",
        ">$w ← w - \\eta\\frac{\\partial loss}{\\partial w}$\n",
        ">$b ← b - \\eta\\frac{\\partial loss}{\\partial b}$\n",
        "\n",
        "**multi dimentional** input, output에서도\n",
        "$y = W^Tx + b$로 나타낼 수 있다.\n",
        "\n",
        "더 나아가 $W^T$를 여러 개 쌓는다면, $y = W^{T}_{2}W^{T}_{1}x$로 표현할 수 있지만, $W^{T}_{2}W^{T}_{1}$는 단순 행렬 두개의 곱으로만 표현된다.\n",
        "\n",
        "따라서 두 행렬 사이에 *non-linear transform*이 필요하다. 이때 **activation function**를 곱해줌으로써 non-linear transform을 거치게 된다.\n",
        "> $y = W^{T}_{2} \\rho(W^{T}_{1}x)$\n",
        "\n",
        "\n",
        "\n"
      ],
      "metadata": {
        "id": "Ds_cwApD4NND"
      }
    },
    {
      "cell_type": "markdown",
      "source": [
        "## Activation Function\n",
        "- ReLU (Rectified Linear Unit)\n",
        "- sigmoid\n",
        "- Hyperbolic Tangent\n",
        "\n"
      ],
      "metadata": {
        "id": "VU9yCUgBFh1R"
      }
    },
    {
      "cell_type": "markdown",
      "source": [
        "## Loss Function \n",
        "[*pytorch docs*](https://pytorch.org/docs/stable/nn.html#loss-functions)\n",
        "\n",
        "- **Regression Task**\n",
        "$$MSE = \\frac{1}{N}∑^{N}_{i=1}∑^{D}_{d=1}(y_i^{(d)}-\\hat{y}_i^{(d)})^2$$\n",
        "- **Classification Task**\n",
        "$$ CE = -\\frac{1}{N}∑^{N}_{i=1}∑^{D}_{d=1}y_i^{(d)} log{\\hat{y}_i^{(d)}}$$\n",
        "예측한 값($\\hat y$)이 해당하는 class에서 높아지면 분류하기 쉬움 (ex. one-hot)\n",
        "- **Probabilistic Task** \n",
        "$$MLE = \\frac{1}{N}∑^{N}_{i=1}∑^{D}_{d=1}logN(y_i^{(d)};\\hat{y}_i^{(d)},1)$$ (=MSE) \n"
      ],
      "metadata": {
        "id": "ucoP8IFRGNbl"
      }
    },
    {
      "cell_type": "markdown",
      "source": [
        "------\n",
        "# Implementation\n",
        "### **Multi Layer Perceptron (MLP)**\n",
        "- dataset : MNIST\n"
      ],
      "metadata": {
        "id": "idbOul7ZGNWI"
      }
    },
    {
      "cell_type": "markdown",
      "source": [
        "#### Import Libraries"
      ],
      "metadata": {
        "id": "v0pY3TfyMshU"
      }
    },
    {
      "cell_type": "code",
      "source": [
        "import numpy as np\n",
        "import matplotlib.pyplot as plt\n",
        "import torch\n",
        "import torch.nn as nn\n",
        "import torch.optim as optim\n",
        "import torch.nn.functional as F\n",
        "%matplotlib inline\n",
        "%config InlineBackend.figure_format='retina' # 더 좋은 화질을..\n",
        "print (\"PyTorch version:[%s].\"%(torch.__version__))\n",
        "device = torch.device('cuda:0' if torch.cuda.is_available() else 'cpu')\n",
        "print (\"device:[%s].\"%(device))"
      ],
      "metadata": {
        "colab": {
          "base_uri": "https://localhost:8080/"
        },
        "id": "gSNVZFBSMjKc",
        "outputId": "34df518e-dead-4a0d-d734-563b5c075a24"
      },
      "execution_count": 1,
      "outputs": [
        {
          "output_type": "stream",
          "name": "stdout",
          "text": [
            "PyTorch version:[1.10.0+cu111].\n",
            "device:[cuda:0].\n"
          ]
        }
      ]
    },
    {
      "cell_type": "markdown",
      "source": [
        "#### Download Dataset"
      ],
      "metadata": {
        "id": "4SAVwKODGNO1"
      }
    },
    {
      "cell_type": "code",
      "source": [
        "from torchvision import datasets,transforms\n",
        "mnist_train = datasets.MNIST(root='./data/',train=True,transform=transforms.ToTensor(),download=True)\n",
        "mnist_test = datasets.MNIST(root='./data/',train=False,transform=transforms.ToTensor(),download=True)\n",
        "print (\"mnist_train:\\n\",mnist_train,\"\\n\")\n",
        "print (\"mnist_test:\\n\",mnist_test,\"\\n\")\n",
        "print (\"Done.\")"
      ],
      "metadata": {
        "id": "ssISWwJKNMZ_"
      },
      "execution_count": null,
      "outputs": []
    },
    {
      "cell_type": "markdown",
      "source": [
        "#### Data Iterator"
      ],
      "metadata": {
        "id": "JkN9_0nCGNBC"
      }
    },
    {
      "cell_type": "code",
      "execution_count": 3,
      "metadata": {
        "colab": {
          "base_uri": "https://localhost:8080/"
        },
        "id": "MkUGEAQv4MMa",
        "outputId": "83e5cc12-6a4c-48b6-e455-545c24bf470d"
      },
      "outputs": [
        {
          "output_type": "stream",
          "name": "stdout",
          "text": [
            "Done.\n"
          ]
        }
      ],
      "source": [
        "## Mini batch training을 위해 Iterator 생성\n",
        "BATCH_SIZE = 256\n",
        "train_iter = torch.utils.data.DataLoader(mnist_train,batch_size=BATCH_SIZE,shuffle=True,num_workers=1)\n",
        "test_iter = torch.utils.data.DataLoader(mnist_test,batch_size=BATCH_SIZE,shuffle=True,num_workers=1)\n",
        "print (\"Done.\")"
      ]
    },
    {
      "cell_type": "markdown",
      "source": [
        "#### Define the MLP model"
      ],
      "metadata": {
        "id": "9FcwtGEGNcO0"
      }
    },
    {
      "cell_type": "code",
      "source": [
        "class MultiLayerPerceptronClass(nn.Module):\n",
        "    \"\"\"\n",
        "        Multilayer Perceptron (MLP) Class\n",
        "    \"\"\"\n",
        "    def __init__(self,name='mlp',xdim=784,hdim=256,ydim=10):\n",
        "        super(MultiLayerPerceptronClass,self).__init__()\n",
        "        self.name = name\n",
        "        self.xdim = xdim      ## input\n",
        "        self.hdim = hdim      ## hidden\n",
        "        self.ydim = ydim      ## output\n",
        "        self.lin_1 = nn.Linear(self.xdim, self.hdim)\n",
        "        self.lin_2 = nn.Linear(self.hdim, self.ydim)\n",
        "        self.init_param() # initialize parameters\n",
        "        \n",
        "    def init_param(self):\n",
        "        nn.init.kaiming_normal_(self.lin_1.weight) ## weight을 kaming he normal로 초기화\n",
        "        nn.init.zeros_(self.lin_1.bias)\n",
        "        nn.init.kaiming_normal_(self.lin_2.weight)\n",
        "        nn.init.zeros_(self.lin_2.bias)\n",
        "\n",
        "    def forward(self,x):\n",
        "        net = x\n",
        "        net = self.lin_1(net)\n",
        "        net = F.relu(net)\n",
        "        net = self.lin_2(net)\n",
        "        return net\n",
        "\n",
        "M = MultiLayerPerceptronClass(name='mlp',xdim=784,hdim=256,ydim=10).to(device)\n",
        "loss = nn.CrossEntropyLoss()     ## loss function\n",
        "optm = optim.Adam(M.parameters(),lr=1e-3)   ## optimize\n",
        "print (\"Done.\")"
      ],
      "metadata": {
        "colab": {
          "base_uri": "https://localhost:8080/"
        },
        "id": "FqMu-fzCNcex",
        "outputId": "07c7ee3d-8c39-4a92-883d-24be86203bf9"
      },
      "execution_count": 4,
      "outputs": [
        {
          "output_type": "stream",
          "name": "stdout",
          "text": [
            "Done.\n"
          ]
        }
      ]
    },
    {
      "cell_type": "code",
      "source": [
        "x_numpy = np.random.rand(2,784)\n",
        "x_torch = torch.from_numpy(x_numpy).float().to(device)  ## x_numpy to tensor\n",
        "y_torch = M.forward(x_torch) # forward path\n",
        "y_numpy = y_torch.detach().cpu().numpy() # torch tensor to numpy array (출력하기 위해)\n",
        "print (\"x_numpy:\\n\",x_numpy)\n",
        "print (\"x_torch:\\n\",x_torch)\n",
        "print (\"y_torch:\\n\",y_torch)\n",
        "print (\"y_numpy:\\n\",y_numpy)"
      ],
      "metadata": {
        "colab": {
          "base_uri": "https://localhost:8080/"
        },
        "id": "JlNCITlJQBHi",
        "outputId": "b54d3247-d9b9-44cf-e83c-3a64ef6c33cf"
      },
      "execution_count": 5,
      "outputs": [
        {
          "output_type": "stream",
          "name": "stdout",
          "text": [
            "x_numpy:\n",
            " [[0.92521382 0.23853604 0.07884702 ... 0.22141589 0.12176862 0.99166968]\n",
            " [0.9144835  0.30370655 0.94597528 ... 0.78017705 0.65658582 0.79543178]]\n",
            "x_torch:\n",
            " tensor([[0.9252, 0.2385, 0.0788,  ..., 0.2214, 0.1218, 0.9917],\n",
            "        [0.9145, 0.3037, 0.9460,  ..., 0.7802, 0.6566, 0.7954]],\n",
            "       device='cuda:0')\n",
            "y_torch:\n",
            " tensor([[-1.1954,  0.0214,  0.2855,  0.7359, -0.6307, -1.7979, -0.5007,  0.1514,\n",
            "          1.2677, -0.8230],\n",
            "        [-0.7682, -0.8230,  0.4660,  0.2401, -0.0582, -0.9777, -0.9275,  0.1771,\n",
            "          1.2034, -1.1098]], device='cuda:0', grad_fn=<AddmmBackward0>)\n",
            "y_numpy:\n",
            " [[-1.195414    0.021377    0.2855278   0.73594177 -0.6306747  -1.7978928\n",
            "  -0.5007049   0.1513694   1.2676665  -0.8230159 ]\n",
            " [-0.7681685  -0.8230463   0.46603015  0.24011159 -0.05818951 -0.9777402\n",
            "  -0.9274518   0.17706445  1.2034072  -1.1097525 ]]\n"
          ]
        }
      ]
    },
    {
      "cell_type": "markdown",
      "source": [
        "#### Parameters"
      ],
      "metadata": {
        "id": "t_20f76eQ1Rt"
      }
    },
    {
      "cell_type": "code",
      "source": [
        "np.set_printoptions(precision=3)\n",
        "n_param = 0\n",
        "for p_idx,(param_name,param) in enumerate(M.named_parameters()):\n",
        "    param_numpy = param.detach().cpu().numpy()\n",
        "    n_param += len(param_numpy.reshape(-1))\n",
        "    print (\"[%d] name:[%s] shape:[%s].\"%(p_idx,param_name,param_numpy.shape))\n",
        "    print (\"    val:%s\"%(param_numpy.reshape(-1)[:5]))\n",
        "print (\"Total number of parameters:[%s].\"%(format(n_param,',d')))"
      ],
      "metadata": {
        "colab": {
          "base_uri": "https://localhost:8080/"
        },
        "id": "7RW4nLEGQA0e",
        "outputId": "23274a2b-12a3-4716-d15d-36fbca7bad77"
      },
      "execution_count": 6,
      "outputs": [
        {
          "output_type": "stream",
          "name": "stdout",
          "text": [
            "[0] name:[lin_1.weight] shape:[(256, 784)].\n",
            "    val:[-0.029 -0.01   0.156  0.011 -0.043]\n",
            "[1] name:[lin_1.bias] shape:[(256,)].\n",
            "    val:[0. 0. 0. 0. 0.]\n",
            "[2] name:[lin_2.weight] shape:[(10, 256)].\n",
            "    val:[ 0.108 -0.003  0.019 -0.087  0.07 ]\n",
            "[3] name:[lin_2.bias] shape:[(10,)].\n",
            "    val:[0. 0. 0. 0. 0.]\n",
            "Total number of parameters:[203,530].\n"
          ]
        }
      ]
    },
    {
      "cell_type": "markdown",
      "source": [
        "#### Evaluation Function"
      ],
      "metadata": {
        "id": "n-mbsbUpNbxS"
      }
    },
    {
      "cell_type": "code",
      "source": [
        "def func_eval(model,data_iter,device):\n",
        "    with torch.no_grad():\n",
        "        model.eval() # evaluate (affects DropOut and BN)\n",
        "        n_total,n_correct = 0,0\n",
        "        for batch_in,batch_out in data_iter:\n",
        "            y_trgt = batch_out.to(device)\n",
        "            model_pred = model(batch_in.view(-1,28*28).to(device))\n",
        "            _,y_pred = torch.max(model_pred.data,1) ## max 값이 예측 label이 됨\n",
        "            n_correct += (y_pred==y_trgt).sum().item() ## y_pred==y_trgt count\n",
        "            n_total += batch_in.size(0)\n",
        "        val_accr = (n_correct/n_total) ## 맞은 개수 / 전체 개수\n",
        "        model.train() # back to train mode \n",
        "    return val_accr\n",
        "print (\"Done\")"
      ],
      "metadata": {
        "colab": {
          "base_uri": "https://localhost:8080/"
        },
        "id": "0BHj_LK4Rp33",
        "outputId": "00a7a44b-17ba-40b1-ec3d-47f308a9b6ee"
      },
      "execution_count": 7,
      "outputs": [
        {
          "output_type": "stream",
          "name": "stdout",
          "text": [
            "Done\n"
          ]
        }
      ]
    },
    {
      "cell_type": "markdown",
      "source": [
        "#### Initial Evaluation"
      ],
      "metadata": {
        "id": "z-Af5zslSxHD"
      }
    },
    {
      "cell_type": "code",
      "source": [
        "M.init_param() # initialize parameters\n",
        "train_accr = func_eval(M,train_iter,device)\n",
        "test_accr = func_eval(M,test_iter,device)\n",
        "print (\"train_accr:[%.3f] test_accr:[%.3f].\"%(train_accr,test_accr))"
      ],
      "metadata": {
        "colab": {
          "base_uri": "https://localhost:8080/"
        },
        "id": "2awm5UpOSzSK",
        "outputId": "2a4bc54b-6c99-4284-825b-a0d166d0ac7e"
      },
      "execution_count": 8,
      "outputs": [
        {
          "output_type": "stream",
          "name": "stdout",
          "text": [
            "train_accr:[0.097] test_accr:[0.096].\n"
          ]
        }
      ]
    },
    {
      "cell_type": "markdown",
      "source": [
        "#### Train"
      ],
      "metadata": {
        "id": "soYr-BT5S3jS"
      }
    },
    {
      "cell_type": "code",
      "source": [
        "print (\"Start training.\")\n",
        "M.init_param() # initialize parameters\n",
        "M.train()\n",
        "EPOCHS,print_every = 10,1\n",
        "for epoch in range(EPOCHS):\n",
        "    loss_val_sum = 0\n",
        "    for batch_in,batch_out in train_iter:\n",
        "        # Forward path\n",
        "        y_pred = M.forward(batch_in.view(-1, 28*28).to(device))\n",
        "        loss_out = loss(y_pred,batch_out.to(device))    ## loss 값\n",
        "        # Update\n",
        "        optm.zero_grad()      # reset gradient \n",
        "        loss_out.backward()   # backpropagate       ## 각각의 weight에 대해서 loss가 쌓임\n",
        "        optm.step()           # optimizer update\n",
        "        loss_val_sum += loss_out\n",
        "    loss_val_avg = loss_val_sum/len(train_iter)\n",
        "    # Print\n",
        "    if ((epoch%print_every)==0) or (epoch==(EPOCHS-1)):\n",
        "        train_accr = func_eval(M,train_iter,device)\n",
        "        test_accr = func_eval(M,test_iter,device)\n",
        "        print (\"epoch:[%d] loss:[%.3f] train_accr:[%.3f] test_accr:[%.3f].\"%\n",
        "               (epoch,loss_val_avg,train_accr,test_accr))\n",
        "print (\"Done\")        "
      ],
      "metadata": {
        "colab": {
          "base_uri": "https://localhost:8080/"
        },
        "id": "Ah937K-PSwlW",
        "outputId": "00a6684d-991b-4ab1-da79-50ce71578e2a"
      },
      "execution_count": 9,
      "outputs": [
        {
          "output_type": "stream",
          "name": "stdout",
          "text": [
            "Start training.\n",
            "epoch:[0] loss:[0.377] train_accr:[0.947] test_accr:[0.944].\n",
            "epoch:[1] loss:[0.168] train_accr:[0.965] test_accr:[0.958].\n",
            "epoch:[2] loss:[0.121] train_accr:[0.973] test_accr:[0.968].\n",
            "epoch:[3] loss:[0.092] train_accr:[0.980] test_accr:[0.972].\n",
            "epoch:[4] loss:[0.073] train_accr:[0.984] test_accr:[0.973].\n",
            "epoch:[5] loss:[0.060] train_accr:[0.987] test_accr:[0.976].\n",
            "epoch:[6] loss:[0.049] train_accr:[0.990] test_accr:[0.977].\n",
            "epoch:[7] loss:[0.041] train_accr:[0.992] test_accr:[0.978].\n",
            "epoch:[8] loss:[0.034] train_accr:[0.994] test_accr:[0.978].\n",
            "epoch:[9] loss:[0.029] train_accr:[0.995] test_accr:[0.979].\n",
            "Done\n"
          ]
        }
      ]
    },
    {
      "cell_type": "markdown",
      "source": [
        "#### Test"
      ],
      "metadata": {
        "id": "HhjqAeh5S4BG"
      }
    },
    {
      "cell_type": "code",
      "source": [
        "n_sample = 25\n",
        "## test data에서 25개 choice\n",
        "sample_indices = np.random.choice(len(mnist_test.targets), n_sample, replace=False)\n",
        "test_x = mnist_test.data[sample_indices]\n",
        "test_y = mnist_test.targets[sample_indices]\n",
        "with torch.no_grad():\n",
        "    y_pred = M.forward(test_x.view(-1, 28*28).type(torch.float).to(device)/255.)\n",
        "y_pred = y_pred.argmax(axis=1)\n",
        "plt.figure(figsize=(10,10))\n",
        "for idx in range(n_sample):\n",
        "    plt.subplot(5, 5, idx+1)\n",
        "    plt.imshow(test_x[idx], cmap='gray')\n",
        "    plt.axis('off')\n",
        "    plt.title(\"Pred:%d, Label:%d\"%(y_pred[idx],test_y[idx]))\n",
        "plt.show()    \n",
        "print (\"Done\")"
      ],
      "metadata": {
        "colab": {
          "base_uri": "https://localhost:8080/",
          "height": 608
        },
        "id": "P6OlXjSgRp0w",
        "outputId": "6f8bfc1c-18c8-45ab-99b9-523b642bd9a7"
      },
      "execution_count": 10,
      "outputs": [
        {
          "output_type": "display_data",
          "data": {
            "image/png": "[encoded data removed]",
            "text/plain": [
              "<Figure size 720x720 with 25 Axes>"
            ]
          },
          "metadata": {
            "image/png": {
              "width": 569,
              "height": 573
            },
            "needs_background": "light"
          }
        },
        {
          "output_type": "stream",
          "name": "stdout",
          "text": [
            "Done\n"
          ]
        }
      ]
    }
  ]
}