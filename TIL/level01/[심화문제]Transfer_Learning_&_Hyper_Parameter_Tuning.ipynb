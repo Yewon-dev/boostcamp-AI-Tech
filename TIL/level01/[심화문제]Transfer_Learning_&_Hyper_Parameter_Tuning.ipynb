{
  "nbformat": 4,
  "nbformat_minor": 0,
  "metadata": {
    "colab": {
      "name": "[심화문제]Transfer Learning & Hyper Parameter Tuning.ipynb",
      "provenance": [],
      "collapsed_sections": [],
      "toc_visible": true,
      "authorship_tag": "ABX9TyMUUYcrho3HVNpHtbA/R0Ku",
      "include_colab_link": true
    },
    "kernelspec": {
      "name": "python3",
      "display_name": "Python 3"
    },
    "language_info": {
      "name": "python"
    }
  },
  "cells": [
    {
      "cell_type": "markdown",
      "metadata": {
        "id": "view-in-github",
        "colab_type": "text"
      },
      "source": [
        "<a href=\"https://colab.research.google.com/github/Yewon-dev/boostcamp-AI-Tech/blob/main/TIL/%5B%EC%8B%AC%ED%99%94%EB%AC%B8%EC%A0%9C%5DTransfer_Learning_%26_Hyper_Parameter_Tuning.ipynb\" target=\"_parent\"><img src=\"https://colab.research.google.com/assets/colab-badge.svg\" alt=\"Open In Colab\"/></a>"
      ]
    },
    {
      "cell_type": "markdown",
      "source": [
        "# Transfer Learning and Hyperparameter Tuning\n",
        "\n",
        "🚀 목표 : CNN에서 **Transfer Learning** (Fine-Tune, torchvision)과 **Hyperparameter Tuning**을 위한 PyTorch 및 추가 라이브러리(*Ray Tune*) 사용법 익히기\n",
        "\n"
      ],
      "metadata": {
        "id": "uJrFT-VV2y-3"
      }
    },
    {
      "cell_type": "markdown",
      "source": [
        "### **실습 내용**\n",
        "\n",
        "Fashion-Mnist라는 10개의 의류 종류를 포함한 데이터셋을 분류하는 딥러닝 방법론 중 하나인 **Convolution Neural Networks** 모델을 **Transfer Learning**으로 학습하기\n"
      ],
      "metadata": {
        "id": "6gcjrYRV3w3I"
      }
    },
    {
      "cell_type": "markdown",
      "source": [
        "----"
      ],
      "metadata": {
        "id": "YYaBsb0zPO5q"
      }
    },
    {
      "cell_type": "markdown",
      "source": [
        "## Transfer Learning\n",
        "\n",
        "Transfer Learning은 \"Source Tasks\"에서 학습된 지식을 \"Target Task\"로 전이하는 절차 및 방법론이다."
      ],
      "metadata": {
        "id": "0eFOR_bG4pUp"
      }
    },
    {
      "cell_type": "markdown",
      "source": [
        "### 1. Source Task 모델 만들기"
      ],
      "metadata": {
        "id": "nWAowtYF4pXQ"
      }
    },
    {
      "cell_type": "markdown",
      "source": [
        "### 1.1 ImangeNet Pretrained Model을 torchvidion에서 불러오기\n",
        "\n",
        "- ImageNet에서 학습된 **ResNet 18** 딥러닝 모델을 불러옴\n"
      ],
      "metadata": {
        "id": "6Sf-je4P6Lca"
      }
    },
    {
      "cell_type": "code",
      "source": [
        "imagenet_resnet18 = torchvision.models.resnet18(pretrained=True)"
      ],
      "metadata": {
        "id": "F6sA7cNh7wXf"
      },
      "execution_count": null,
      "outputs": []
    },
    {
      "cell_type": "markdown",
      "source": [
        "### 1.2 Mnist Pretrained Model 만들기"
      ],
      "metadata": {
        "id": "u_ap2ZPH7He_"
      }
    },
    {
      "cell_type": "markdown",
      "source": [
        "#### 1.2.1 Mnist Dataset 불러오기\n",
        "\n",
        "- Mnist Dataset은 0부터 9까지 손으로 쓰인 10가지의 클래스가 있는 데이터셋"
      ],
      "metadata": {
        "id": "nb5P-g3V7HcH"
      }
    },
    {
      "cell_type": "code",
      "source": [
        "mnist_train = torchvision.datasets.MNIST(root='./mnist', train=True, download=True)\n",
        "mnist_test = torchvision.datasets.MNIST(root='./mnist', train=False, download=True)"
      ],
      "metadata": {
        "id": "u0ah0cyh7s_U"
      },
      "execution_count": null,
      "outputs": []
    },
    {
      "cell_type": "markdown",
      "source": [
        "#### 1.2.2 Mnist를 학습할 CNN 모델 생성 (ResNet18)"
      ],
      "metadata": {
        "id": "_Jb3ZrDk7HZs"
      }
    },
    {
      "cell_type": "code",
      "source": [
        "mnist_resnet18 = torchvision.models.resnet18(pretrained=False)"
      ],
      "metadata": {
        "id": "B3m2X67Z8V1O"
      },
      "execution_count": null,
      "outputs": []
    },
    {
      "cell_type": "markdown",
      "source": [
        "#### 1.2.3 Mnist 데이터 분류 ResNet18 모델에 학습하기\n",
        "\n",
        "*   torchvision.datasets.minist의 데이터 타입은 PIL Image -> 학습 때는 Tensor type으로 변환해야 한다\n",
        "*   원본 영상은 gray scale이지만 모델은 3채널이므로 gray scale을 RGB로 변환해야 한다\n",
        "  - Q. 모델 입력을 channel 1개만 받도록 변경한다면?\n",
        "  - `mnist_resnet18.conv1 = nn.Conv2d(in_channels = 1, ...)`\n",
        "\n",
        "\n"
      ],
      "metadata": {
        "id": "yT3nP_xC7HW0"
      }
    },
    {
      "cell_type": "code",
      "source": [
        "common_transform = torchvision.transforms.Compose([\n",
        "    # grayscale의 1채널 영상을 3채널로 동일한 값으로 확장함\n",
        "    torchvision.transforms.Grayscale(num_output_channels=3), \n",
        "    # PIL Image를 Tensor type로 변경함\n",
        "    torchvision.transforms.ToTensor() \n",
        "  ])"
      ],
      "metadata": {
        "id": "_81N9n1X7G57"
      },
      "execution_count": null,
      "outputs": []
    },
    {
      "cell_type": "markdown",
      "source": [
        "(결과)\n",
        "```\n",
        "원본 <class 'PIL.Image.Image'> (28, 28)\n",
        "변경됨 <class 'torch.Tensor'> (3, 28, 28)\n",
        "```\n",
        "\n"
      ],
      "metadata": {
        "id": "eQNYRUZu7HT6"
      }
    },
    {
      "cell_type": "markdown",
      "source": [
        "\n",
        "\n",
        "---\n",
        "\n"
      ],
      "metadata": {
        "id": "8h0-iuJkWVCO"
      }
    },
    {
      "cell_type": "markdown",
      "source": [
        "**Xavier Initialization**\n",
        "\n",
        "Xavier Initialization 혹은 Glorot Initialization라고도 불리는 초기화 방법은 **이전 노드와 다음 노드의 개수에 의존**하는 방법이다. Uniform 분포를 따르는 방법과 Normal분포를 따르는 두가지 방법이 사용된다.(Glorot & Bengio, AISTATS 2010)\n",
        "\n",
        "- Xavier Normal Initialization\n",
        "$$ W∼N(0,Var(W)) $$\n",
        "$$ Var(W)= \\sqrt{\\frac{2}{n_{in}+n_{out}}} $$\n",
        "($n_{in}$ : 이전 layer(input)의 노드 수, $n_{out}$ : 다음 layer의 노드 수)\n",
        "\n",
        "- Xavier Uniform Initialization\n",
        "$$ W∼U(-\\sqrt{\\frac{6}{n_{in}+n_{out}}},+\\sqrt{\\frac{6}{n_{in}+n_{out}}}) $$\n",
        "($n_{in}$ : 이전 layer(input)의 노드 수, $n_{out}$ : 다음 layer의 노드 수)\n",
        "\n",
        "Xaiver함수는 비선형함수(ex. sigmoid, tanh)에서 효과적인 결과를 보여준다.\n",
        "\n",
        "(참고) https://proceedings.mlr.press/v9/glorot10a/glorot10a.pdf"
      ],
      "metadata": {
        "id": "UV0qkb227HRA"
      }
    },
    {
      "cell_type": "markdown",
      "source": [
        "---\n"
      ],
      "metadata": {
        "id": "gVDh80CVPJFB"
      }
    },
    {
      "cell_type": "markdown",
      "source": [
        "\n",
        "**tqdm**\n",
        "\n",
        "`from tqdm.notebook import tqdm`\n",
        "\n",
        "- tqdm이라는 \"반복문\"의 현재 진행 상태를 progress-bar로 보여주는 라이브러리\n",
        "\n",
        "(참고) https://github.com/tqdm/tqdm\n"
      ],
      "metadata": {
        "id": "1OgukRMyEP-U"
      }
    },
    {
      "cell_type": "markdown",
      "source": [
        "\n",
        "\n",
        "---\n",
        "\n"
      ],
      "metadata": {
        "id": "XhUvloBdNrbm"
      }
    },
    {
      "cell_type": "markdown",
      "source": [
        "**.eval()**\n",
        "\n",
        "\n",
        "`model.eval()`\n",
        "- `nn.Module`에서 train time과 eval time에서 수행하는 다른 작업을 수행할 수 있도록 switching 하는 함수\n",
        "- evaluation 과정에서 사용하지 않아야 하는 layer들을 알아서 off시킴"
      ],
      "metadata": {
        "id": "u55exHl6EP7d"
      }
    },
    {
      "cell_type": "markdown",
      "source": [
        "\n",
        "\n",
        "---\n",
        "\n"
      ],
      "metadata": {
        "id": "j0Xh4q81NtGG"
      }
    },
    {
      "cell_type": "markdown",
      "source": [
        "`for ind, (images, labels) in enumerate(tqdm(dataloaders[phase])):`\n",
        "- progress bar 나타내기 위함\n",
        "- Q. with 과 pbar을 사용하용 epoch, running loss 등 나타내기\n",
        "\n"
      ],
      "metadata": {
        "id": "QhBOnnOnNtBq"
      }
    },
    {
      "cell_type": "markdown",
      "source": [
        "----"
      ],
      "metadata": {
        "id": "ull9YzH9PGml"
      }
    },
    {
      "cell_type": "markdown",
      "source": [
        "### 1.3 Target Task 모델 학습하기\n"
      ],
      "metadata": {
        "id": "Xo_j1As3PGkL"
      }
    },
    {
      "cell_type": "markdown",
      "source": [
        "\n",
        "#### 1.3.1 Fashion-Mnist Dataset 불러오기\n",
        "\n",
        "- ref - https://github.com/zalandoresearch/fashion-mnist"
      ],
      "metadata": {
        "id": "J2DrJc4UPGhn"
      }
    },
    {
      "cell_type": "code",
      "source": [
        "fashion_train = torchvision.datasets.FashionMNIST(root='./fashion', train=True, download=True)\n",
        "fashion_test = torchvision.datasets.FashionMNIST(root='./fashion', train=False, download=True)"
      ],
      "metadata": {
        "id": "IWL8nZJ3PrJe"
      },
      "execution_count": null,
      "outputs": []
    },
    {
      "cell_type": "markdown",
      "source": [
        "#### 1.3.2 Fashion-Mnist를 학습할 Source Task 모델 가져오기\n",
        "- 앞서 (1.2.2)에서 imagenet으로 사전 학습된 ResNet18을 만듦"
      ],
      "metadata": {
        "id": "eDgsz27nPefT"
      }
    },
    {
      "cell_type": "code",
      "source": [
        "target_model = imagenet_resnet18\n",
        "FASHION_INPUT_NUM = 1\n",
        "FASHION_CLASS_NUM = 10\n",
        "\n",
        "## imagenet_resnet18 은 필요 입력 채널 개수가 3, 예측하는 클래스 종류는 1000가지\n",
        "## Fashion Mnist 데이터는 필요 입력 채널 개수가 1, 레이블은 10가지 타입\n",
        "## 따라서 Fine-Tuning 전에 모델 구조 변경\n",
        "target_model.conv1 = torch.nn.Conv2d(FASHION_INPUT_NUM, 64, kernel_size=(7, 7), stride=(2, 2), padding=(3, 3), bias=False)\n",
        "target_model.fc = torch.nn.Linear(in_features=512, out_features=FASHION_CLASS_NUM, bias=True)\n"
      ],
      "metadata": {
        "id": "7RO0prNESxwF"
      },
      "execution_count": null,
      "outputs": []
    },
    {
      "cell_type": "markdown",
      "source": [
        "#### 1.3.3 Fashion-Mnist 데이터 분류 학습"
      ],
      "metadata": {
        "id": "8oBTqvtSPect"
      }
    },
    {
      "cell_type": "code",
      "source": [
        "# 앞서 선언한 데이터셋에 transform 인자를 넘겨주자\n",
        "fashion_train_transformed = torchvision.datasets.FashionMNIST(root='./fashion', train=True, download=True, transform=common_transform)\n",
        "fashion_test_transformed = torchvision.datasets.FashionMNIST(root='./fashion', train=False, download=True, transform=common_transform)\n",
        "\n",
        "# Mnist Dataset을 DataLoader에 붙이기\n",
        "BATCH_SIZE = 64\n",
        "fashion_train_dataloader = torch.utils.data.DataLoader(fashion_train_transformed, batch_size=BATCH_SIZE, shuffle=True, num_workers=2)\n",
        "fashion_test_dataloader = torch.utils.data.DataLoader(fashion_test_transformed, batch_size=BATCH_SIZE, shuffle=False, num_workers=2)"
      ],
      "metadata": {
        "id": "bWYBd0EjTdoM"
      },
      "execution_count": null,
      "outputs": []
    },
    {
      "cell_type": "markdown",
      "source": [
        "- mnist train 데이터셋을 ResNet18 모델에 학습"
      ],
      "metadata": {
        "id": "ro3xaJPXT-O7"
      }
    },
    {
      "cell_type": "code",
      "source": [
        "LEARNING_RATE = 0.0001 # 학습 때 사용하는 optimizer의 학습률 옵션 설정\n",
        "NUM_EPOCH = 5 # 학습 때 mnist train 데이터 셋을 얼마나 많이 학습할지 결정하는 옵션\n",
        "\n",
        "loss_fn = torch.nn.CrossEntropyLoss() # 분류 학습 때 많이 사용되는 Cross entropy loss를 objective function으로 사용 - https://en.wikipedia.org/wiki/Cross_entropy\n",
        "optimizer = torch.optim.Adam(target_model.parameters(), lr=LEARNING_RATE) # weight 업데이트를 위한 optimizer를 Adam으로 사용함\n"
      ],
      "metadata": {
        "id": "1YWqVaWVTrny"
      },
      "execution_count": null,
      "outputs": []
    },
    {
      "cell_type": "code",
      "source": [
        "[학습코드]"
      ],
      "metadata": {
        "id": "WaB1rqjlUJ7A"
      },
      "execution_count": null,
      "outputs": []
    },
    {
      "cell_type": "markdown",
      "source": [
        "\n",
        "\n",
        "---\n",
        "\n"
      ],
      "metadata": {
        "id": "uxKNeRwcWXlR"
      }
    },
    {
      "cell_type": "markdown",
      "source": [
        "## Hyper Parameter Tuning\n",
        "- Ray : Distributed application을 만들기 위한 프레임워크\n",
        "- Tune : Ray 안에 있는 라이브러리.\n",
        "\n",
        "(참고) https://docs.ray.io/en/master/tune/index.html"
      ],
      "metadata": {
        "id": "0KGniqpKPeTS"
      }
    },
    {
      "cell_type": "markdown",
      "source": [
        "### 1. Ray Tune 사용하기"
      ],
      "metadata": {
        "id": "sfLVCmpCUSFA"
      }
    },
    {
      "cell_type": "markdown",
      "source": [
        "- Ray 프레임워크 설치\n",
        "```python\n",
        "!pip uninstall -y -q pyarrow\n",
        "!pip install -q -U ray[tune]\n",
        "!pip install -q ray[debug]\n",
        "```"
      ],
      "metadata": {
        "id": "mzWIUIgzUSB5"
      }
    }
  ]
}