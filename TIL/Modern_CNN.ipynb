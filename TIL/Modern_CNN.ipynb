{
  "nbformat": 4,
  "nbformat_minor": 0,
  "metadata": {
    "colab": {
      "name": "Modern CNN.ipynb",
      "provenance": [],
      "collapsed_sections": [
        "0qqfSNHiJnux",
        "UEXgkKZaJnsK",
        "-Rrx8qcJJnpV"
      ],
      "authorship_tag": "ABX9TyPuHoJUPsdXwzX8L3yZem7O",
      "include_colab_link": true
    },
    "kernelspec": {
      "name": "python3",
      "display_name": "Python 3"
    },
    "language_info": {
      "name": "python"
    }
  },
  "cells": [
    {
      "cell_type": "markdown",
      "metadata": {
        "id": "view-in-github",
        "colab_type": "text"
      },
      "source": [
        "<a href=\"https://colab.research.google.com/github/Yewon-dev/boostcamp-AI-Tech/blob/master/TIL/Modern_CNN.ipynb\" target=\"_parent\"><img src=\"https://colab.research.google.com/assets/colab-badge.svg\" alt=\"Open In Colab\"/></a>"
      ]
    },
    {
      "cell_type": "markdown",
      "source": [
        "\n",
        "**Key takeaways**\n",
        "- **VGG** : repeated 3x3 blocks\n",
        "- **GoooLeNet** : 1x1 convolution\n",
        "- **ResNet** : skip-connection\n",
        "- **DenseNet** : concatenation\n",
        "\n",
        "\n",
        "*해가 지날수록 network의 depth는 깊어지고, parameters는 적어지고, 성능은 높아진다*"
      ],
      "metadata": {
        "id": "HYhnMNePHswb"
      }
    },
    {
      "cell_type": "markdown",
      "source": [
        "# AlexNet\n",
        "<img src=\"https://production-media.paperswithcode.com/methods/Screen_Shot_2020-06-22_at_6.35.45_PM.png\" width = 500>\n",
        "\n",
        "- 5 convolution layers\n",
        "- 3 dense layers\n",
        "\n",
        "**Key ideas**\n",
        "  - ReLU activation\n",
        "    - Overcome the vanishing gradient problem\n",
        "  - 2 GPUs\n",
        "  - LRN, Overlapping pooling\n",
        "  - Data augmentation\n",
        "  - Dropout\n"
      ],
      "metadata": {
        "id": "0qqfSNHiJnux"
      }
    },
    {
      "cell_type": "markdown",
      "source": [
        "-----\n",
        "# VGGNet\n",
        "<img src=\"https://www.researchgate.net/profile/Timea-Bezdan/publication/333242381/figure/fig2/AS:760979981860866@1558443174380/VGGNet-architecture-19.ppm\" width=400>\n",
        "\n",
        "- **3x3 conv filter**만 사용함\n",
        "> 3x3 filter을 두번 사용한 것과 5x5 filter을 한번 사용한 것이 receptive field 차원에서는 같다.\n",
        "> But, parameter의 개수를 세어보면 전자의 개수가 적다\n",
        "- 1x1 conv\n",
        "- Dropout\n",
        "- VGG16, VGG19\n",
        "\n",
        "\n"
      ],
      "metadata": {
        "id": "UEXgkKZaJnsK"
      }
    },
    {
      "cell_type": "markdown",
      "source": [
        "-----\n",
        "# GooLeNet\n",
        "\n",
        "<img src=\"https://3.bp.blogspot.com/-8Lsg0rnxl7k/WRtttN18MKI/AAAAAAAAB0o/KpHbFnYBmTYQ3dBjVLimPUkKphU_qLBfgCLcB/s1600/image2.png\">\n",
        "\n",
        "- network-in-network (NiN)\n",
        "- Inception Block\n",
        "  - 3x3, 5x5 하기 전에 1x1 conv 수행\n",
        "  - reduce the number of parameter.\n",
        "  - channel-wise dimension reduction.\n",
        "\n",
        "  <img src=\"https://production-media.paperswithcode.com/methods/Screen_Shot_2020-06-22_at_3.22.39_PM.png\" width=500>"
      ],
      "metadata": {
        "id": "-Rrx8qcJJnpV"
      }
    },
    {
      "cell_type": "markdown",
      "source": [
        "-----\n",
        "# ResNet\n",
        "\n",
        "<img src=\"https://t1.daumcdn.net/cfile/tistory/9998684E5C5CD7D234?download\" width=600>\n",
        "\n",
        "- Network가 깊어질 수록 학습이 잘 안됨 (overfitting은 아님)\n",
        "- Identity map (skip connection)\n",
        "  - (오른쪽 그림) 차원이 다를 때 1x1으로 matching\n",
        "\n",
        "<img src=\"https://d2l.ai/_images/resnet-block.svg\" width=500>\n",
        "\n",
        "- Bottleneck architechture\n",
        "  - 3x3 앞과 뒤에 추가함으로써 input channel을 줄였다가 늘림\n",
        "  \n",
        "<img src=\"https://miro.medium.com/max/1400/1*j_lC2gsO1Kbia8PIQGHUZg.png\" width=500>\n"
      ],
      "metadata": {
        "id": "tQYh0XhUJnmb"
      }
    },
    {
      "cell_type": "markdown",
      "source": [
        "-----\n",
        "# DenseNet\n",
        "<img src=\"https://younnggsuk.github.io/assets/densely_connected_convolutional_networks/fig_2.png\" width=600>\n",
        "\n",
        "- convolution한 결과값을 더하지 않고 concatenation\n",
        "- channel이 기하급수적으로 커짐\n",
        "- 중간에 channel을 줄임 (1x1 conv)"
      ],
      "metadata": {
        "id": "pHRWKMDzJnXV"
      }
    }
  ]
}