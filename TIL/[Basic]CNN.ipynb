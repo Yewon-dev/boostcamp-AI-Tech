{
  "nbformat": 4,
  "nbformat_minor": 0,
  "metadata": {
    "colab": {
      "name": "[Basic]CNN.ipynb",
      "provenance": [],
      "collapsed_sections": [],
      "authorship_tag": "ABX9TyNSqdnt8f8Upw5BYNHDUrBL",
      "include_colab_link": true
    },
    "kernelspec": {
      "name": "python3",
      "display_name": "Python 3"
    },
    "language_info": {
      "name": "python"
    },
    "accelerator": "GPU"
  },
  "cells": [
    {
      "cell_type": "markdown",
      "metadata": {
        "id": "view-in-github",
        "colab_type": "text"
      },
      "source": [
        "<a href=\"https://colab.research.google.com/github/Yewon-dev/boostcamp-AI-Tech/blob/master/TIL/%5BBasic%5DCNN.ipynb\" target=\"_parent\"><img src=\"https://colab.research.google.com/assets/colab-badge.svg\" alt=\"Open In Colab\"/></a>"
      ]
    },
    {
      "cell_type": "markdown",
      "source": [
        "# Convolution\n",
        "- Continuous convolution\n",
        "- Discrete convolution\n",
        "- 2D image convolution"
      ],
      "metadata": {
        "id": "9kX33GfjkRxT"
      }
    },
    {
      "cell_type": "markdown",
      "source": [
        "## Stack of Convolution\n",
        "<img src=\"https://media.vlpt.us/images/naem1023/post/46095895-ee37-4209-b73e-22e11585427a/image.png\" width=400> \n"
      ],
      "metadata": {
        "id": "AOwJJjaFkRut"
      }
    },
    {
      "cell_type": "markdown",
      "source": [
        "# Convolution Neural Networks\n",
        "- Convolution and pooling layer : feature extraction\n",
        "- Fully connected layer: decision making\n",
        "- layer의 parameter, 전체의 parameter 숫자를 확인해야 한다."
      ],
      "metadata": {
        "id": "voo7fnumkRsG"
      }
    },
    {
      "cell_type": "markdown",
      "source": [
        "## Stride\n",
        "- filter 이동하는 간격\n",
        "\n",
        "## Padding\n",
        "- feature map의 크기가 줄어드는 것을 방지하기 위해 가장자리에 특정 값을 채워 넣는다.\n"
      ],
      "metadata": {
        "id": "8lrpGdZWkRpf"
      }
    },
    {
      "cell_type": "markdown",
      "source": [
        "## 1$×$1 Convolution\n",
        ">Why? \n",
        "\n",
        "- **Dimension reduction**\n",
        "- 깊이가 깊어지는 동안 parameters의 수를 줄이기 위해\n",
        "- e.g., bottleneck architecture"
      ],
      "metadata": {
        "id": "Sr4UCTgI8FYg"
      }
    },
    {
      "cell_type": "markdown",
      "source": [
        "-----\n",
        "# Implementation of CNN\n",
        "출처 : https://github.com/sjchoi86/upstage-basic-deeplearning/blob/main/notebook/cnn.ipynb"
      ],
      "metadata": {
        "id": "b0xgYNWN9V9z"
      }
    },
    {
      "cell_type": "markdown",
      "source": [
        "### Import Libraries..."
      ],
      "metadata": {
        "id": "bTLCIV5v9Wrv"
      }
    },
    {
      "cell_type": "code",
      "execution_count": 1,
      "metadata": {
        "id": "qRY4tSF6kOaF",
        "colab": {
          "base_uri": "https://localhost:8080/"
        },
        "outputId": "7f30de6c-082e-47af-f052-0bb34b685666"
      },
      "outputs": [
        {
          "output_type": "stream",
          "name": "stdout",
          "text": [
            "PyTorch version:[1.10.0+cu111].\n",
            "device:[cuda:0].\n"
          ]
        }
      ],
      "source": [
        "import numpy as np\n",
        "import matplotlib.pyplot as plt\n",
        "import torch\n",
        "import torch.nn as nn\n",
        "import torch.optim as optim\n",
        "import torch.nn.functional as F\n",
        "%matplotlib inline\n",
        "%config InlineBackend.figure_format='retina'\n",
        "print (\"PyTorch version:[%s].\"%(torch.__version__))\n",
        "device = torch.device('cuda:0' if torch.cuda.is_available() else 'cpu')\n",
        "print (\"device:[%s].\"%(device))"
      ]
    },
    {
      "cell_type": "markdown",
      "source": [
        "### Download Dataset"
      ],
      "metadata": {
        "id": "AVnzUUE09vTa"
      }
    },
    {
      "cell_type": "code",
      "source": [
        "from torchvision import datasets,transforms\n",
        "mnist_train = datasets.MNIST(root='./data/',train=True,transform=transforms.ToTensor(),download=True)\n",
        "mnist_test = datasets.MNIST(root='./data/',train=False,transform=transforms.ToTensor(),download=True)\n",
        "print (\"mnist_train:\\n\",mnist_train,\"\\n\")\n",
        "print (\"mnist_test:\\n\",mnist_test,\"\\n\")\n",
        "print (\"Done.\")"
      ],
      "metadata": {
        "id": "VWg8ijid9qck",
        "colab": {
          "base_uri": "https://localhost:8080/"
        },
        "outputId": "22ea07ea-6f7e-443d-d493-f36ce8cfd842"
      },
      "execution_count": 3,
      "outputs": [
        {
          "output_type": "stream",
          "name": "stdout",
          "text": [
            "mnist_train:\n",
            " Dataset MNIST\n",
            "    Number of datapoints: 60000\n",
            "    Root location: ./data/\n",
            "    Split: Train\n",
            "    StandardTransform\n",
            "Transform: ToTensor() \n",
            "\n",
            "mnist_test:\n",
            " Dataset MNIST\n",
            "    Number of datapoints: 10000\n",
            "    Root location: ./data/\n",
            "    Split: Test\n",
            "    StandardTransform\n",
            "Transform: ToTensor() \n",
            "\n",
            "Done.\n"
          ]
        }
      ]
    },
    {
      "cell_type": "markdown",
      "source": [
        "### Data Iterator"
      ],
      "metadata": {
        "id": "usO8KN6f-rsV"
      }
    },
    {
      "cell_type": "code",
      "source": [
        "BATCH_SIZE = 256\n",
        "train_iter = torch.utils.data.DataLoader(mnist_train,batch_size=BATCH_SIZE,shuffle=True,num_workers=1)\n",
        "test_iter = torch.utils.data.DataLoader(mnist_test,batch_size=BATCH_SIZE,shuffle=True,num_workers=1)\n",
        "print (\"Done.\")"
      ],
      "metadata": {
        "id": "qb2nleZ2-sEE",
        "colab": {
          "base_uri": "https://localhost:8080/"
        },
        "outputId": "7b7e9035-60fb-47a8-8c34-a8a857b76878"
      },
      "execution_count": 4,
      "outputs": [
        {
          "output_type": "stream",
          "name": "stdout",
          "text": [
            "Done.\n"
          ]
        }
      ]
    },
    {
      "cell_type": "markdown",
      "source": [
        "### Define Model"
      ],
      "metadata": {
        "id": "yDuFs5SF-llE"
      }
    },
    {
      "cell_type": "code",
      "source": [
        "class ConvolutionalNeuralNetworkClass(nn.Module):\n",
        "    \"\"\"\n",
        "        Convolutional Neural Network (CNN) Class\n",
        "    \"\"\"\n",
        "    def __init__(self,name='cnn',xdim=[1,28,28],\n",
        "                 ksize=3,cdims=[32,64],hdims=[1024,128],ydim=10,\n",
        "                 USE_BATCHNORM=False):\n",
        "        super(ConvolutionalNeuralNetworkClass,self).__init__()\n",
        "        self.name = name\n",
        "        self.xdim = xdim\n",
        "        self.ksize = ksize\n",
        "        self.cdims = cdims\n",
        "        self.hdims = hdims\n",
        "        self.ydim = ydim\n",
        "        self.USE_BATCHNORM = USE_BATCHNORM\n",
        "\n",
        "        # Convolutional layers...(1)\n",
        "        self.layers = []\n",
        "        prev_cdim = self.xdim[0]\n",
        "        for cdim in self.cdims: # for each hidden layer\n",
        "            self.layers.append(\n",
        "                nn.Conv2d(in_channels = prev_cdim,\n",
        "                          out_channels = cdim,\n",
        "                          kernel_size = self.ksize,\n",
        "                          stride = (1,1),\n",
        "                          padding = self.ksize//2)) # convolution \n",
        "            if self.USE_BATCHNORM:\n",
        "                self.layers.append(nn.BatchNorm2d(cdim)) # batch-norm\n",
        "            self.layers.append(nn.ReLU(True))  # activation\n",
        "            self.layers.append(nn.MaxPool2d(kernel_size=(2,2), stride=(2,2))) # max-pooling \n",
        "            self.layers.append(nn.Dropout2d(p=0.5))  # dropout\n",
        "            prev_cdim = cdim\n",
        "\n",
        "        # Dense layers\n",
        "        ## convolution layer을 한줄로 펴기\n",
        "        self.layers.append(nn.Flatten())\n",
        "        prev_hdim = prev_cdim*(self.xdim[1]//(2**len(self.cdims)))*(self.xdim[2]//(2**len(self.cdims)))\n",
        "        for hdim in self.hdims:\n",
        "            self.layers.append(nn.Linear(prev_hdim,hdim,bias=True))\n",
        "            self.layers.append(nn.ReLU(True))  # activation\n",
        "            prev_hdim = hdim\n",
        "        # Final layer (without activation)\n",
        "        self.layers.append(nn.Linear(prev_hdim,self.ydim,bias=True))\n",
        "\n",
        "        # Concatenate all layers \n",
        "        ## 실제로 네트워크가 만들어지는 과정\n",
        "        self.net = nn.Sequential()\n",
        "        for l_idx,layer in enumerate(self.layers):\n",
        "            layer_name = \"%s_%02d\"%(type(layer).__name__.lower(),l_idx)\n",
        "            self.net.add_module(layer_name,layer) ## add_module 장점 : 이름을 정할 수 있음\n",
        "        self.init_param() # initialize parameters\n",
        "        \n",
        "    def init_param(self):\n",
        "        for m in self.modules():\n",
        "            if isinstance(m,nn.Conv2d): # init conv\n",
        "                nn.init.kaiming_normal_(m.weight)\n",
        "                nn.init.zeros_(m.bias)\n",
        "            elif isinstance(m,nn.BatchNorm2d): # init BN\n",
        "                nn.init.constant_(m.weight,1)\n",
        "                nn.init.constant_(m.bias,0)\n",
        "            elif isinstance(m,nn.Linear): # lnit dense\n",
        "                nn.init.kaiming_normal_(m.weight)\n",
        "                nn.init.zeros_(m.bias)\n",
        "            \n",
        "    def forward(self,x):\n",
        "        return self.net(x)\n",
        "\n",
        "C = ConvolutionalNeuralNetworkClass(\n",
        "    name='cnn',xdim=[1,28,28],ksize=3,cdims=[32,64],\n",
        "    hdims=[32],ydim=10).to(device)\n",
        "loss = nn.CrossEntropyLoss()\n",
        "optm = optim.Adam(C.parameters(),lr=1e-3)\n",
        "print (\"Done.\")"
      ],
      "metadata": {
        "id": "PkoBWEnu9qaO",
        "colab": {
          "base_uri": "https://localhost:8080/"
        },
        "outputId": "c5aba775-1087-4659-ac67-e374491759b2"
      },
      "execution_count": 8,
      "outputs": [
        {
          "output_type": "stream",
          "name": "stdout",
          "text": [
            "Done.\n"
          ]
        }
      ]
    },
    {
      "cell_type": "markdown",
      "source": [
        "### Check Parameters\n"
      ],
      "metadata": {
        "id": "jtJce1N0BtRH"
      }
    },
    {
      "cell_type": "code",
      "source": [
        "np.set_printoptions(precision=3)\n",
        "n_param = 0\n",
        "for p_idx,(param_name,param) in enumerate(C.named_parameters()):\n",
        "    if param.requires_grad:\n",
        "        param_numpy = param.detach().cpu().numpy() # to numpy array \n",
        "        n_param += len(param_numpy.reshape(-1))\n",
        "        print (\"[%d] name:[%s] shape:[%s].\"%(p_idx,param_name,param_numpy.shape))\n",
        "        print (\"    val:%s\"%(param_numpy.reshape(-1)[:5]))\n",
        "print (\"Total number of parameters:[%s].\"%(format(n_param,',d')))"
      ],
      "metadata": {
        "id": "RWyIMagO9qXv",
        "colab": {
          "base_uri": "https://localhost:8080/"
        },
        "outputId": "b482bd9d-f2ff-4e67-8ce2-46d50cf7f691"
      },
      "execution_count": 9,
      "outputs": [
        {
          "output_type": "stream",
          "name": "stdout",
          "text": [
            "[0] name:[net.conv2d_00.weight] shape:[(32, 1, 3, 3)].\n",
            "    val:[ 1.156  0.855 -0.136 -0.348  0.255]\n",
            "[1] name:[net.conv2d_00.bias] shape:[(32,)].\n",
            "    val:[0. 0. 0. 0. 0.]\n",
            "[2] name:[net.conv2d_04.weight] shape:[(64, 32, 3, 3)].\n",
            "    val:[ 0.077  0.058  0.095 -0.048 -0.001]\n",
            "[3] name:[net.conv2d_04.bias] shape:[(64,)].\n",
            "    val:[0. 0. 0. 0. 0.]\n",
            "[4] name:[net.linear_09.weight] shape:[(32, 3136)].\n",
            "    val:[-0.045  0.036 -0.026  0.007 -0.018]\n",
            "[5] name:[net.linear_09.bias] shape:[(32,)].\n",
            "    val:[0. 0. 0. 0. 0.]\n",
            "[6] name:[net.linear_11.weight] shape:[(10, 32)].\n",
            "    val:[ 0.246  0.358 -0.133  0.113  0.307]\n",
            "[7] name:[net.linear_11.bias] shape:[(10,)].\n",
            "    val:[0. 0. 0. 0. 0.]\n",
            "Total number of parameters:[119,530].\n"
          ]
        }
      ]
    },
    {
      "cell_type": "markdown",
      "source": [
        "### Simple Forward Path of the CNN Model"
      ],
      "metadata": {
        "id": "qMnrBlymCGcv"
      }
    },
    {
      "cell_type": "code",
      "source": [
        "np.set_printoptions(precision=3)\n",
        "torch.set_printoptions(precision=3)\n",
        "x_numpy = np.random.rand(2,1,28,28) ## random choice\n",
        "x_torch = torch.from_numpy(x_numpy).float().to(device)\n",
        "y_torch = C.forward(x_torch) # forward path\n",
        "y_numpy = y_torch.detach().cpu().numpy() # torch tensor to numpy array\n",
        "print (\"x_torch:\\n\",x_torch)\n",
        "print (\"y_torch:\\n\",y_torch)\n",
        "print (\"\\nx_numpy %s:\\n\"%(x_numpy.shape,),x_numpy)\n",
        "print (\"y_numpy %s:\\n\"%(y_numpy.shape,),y_numpy)"
      ],
      "metadata": {
        "id": "JYHKqQxg9qU_",
        "colab": {
          "base_uri": "https://localhost:8080/"
        },
        "outputId": "0f2ffb80-f0f8-4ee3-c55a-f6b1619cc942"
      },
      "execution_count": 10,
      "outputs": [
        {
          "output_type": "stream",
          "name": "stdout",
          "text": [
            "x_torch:\n",
            " tensor([[[[0.741, 0.117, 0.039,  ..., 0.192, 0.883, 0.414],\n",
            "          [0.222, 0.576, 0.529,  ..., 0.458, 0.421, 0.104],\n",
            "          [0.079, 0.586, 0.948,  ..., 0.146, 0.064, 0.548],\n",
            "          ...,\n",
            "          [0.676, 0.474, 0.787,  ..., 0.844, 0.663, 0.936],\n",
            "          [0.147, 0.436, 0.681,  ..., 0.608, 0.749, 0.032],\n",
            "          [0.938, 0.045, 0.246,  ..., 0.490, 0.983, 0.248]]],\n",
            "\n",
            "\n",
            "        [[[0.820, 0.050, 0.126,  ..., 0.657, 0.514, 0.618],\n",
            "          [0.898, 0.474, 0.452,  ..., 0.832, 0.166, 0.472],\n",
            "          [0.836, 0.568, 0.428,  ..., 0.196, 0.476, 0.730],\n",
            "          ...,\n",
            "          [0.268, 0.114, 0.101,  ..., 0.615, 0.118, 0.016],\n",
            "          [0.529, 0.135, 0.874,  ..., 0.365, 0.512, 0.412],\n",
            "          [0.155, 0.985, 0.654,  ..., 0.864, 0.347, 0.819]]]], device='cuda:0')\n",
            "y_torch:\n",
            " tensor([[ 4.498, -1.444, -3.774, -0.333,  0.798, -0.380,  3.357,  3.057, -0.524,\n",
            "         -3.304],\n",
            "        [ 3.810, -1.184, -4.467, -0.311, -0.847, -0.415,  2.445,  1.120,  1.924,\n",
            "         -2.522]], device='cuda:0', grad_fn=<AddmmBackward0>)\n",
            "\n",
            "x_numpy (2, 1, 28, 28):\n",
            " [[[[0.741 0.117 0.039 ... 0.192 0.883 0.414]\n",
            "   [0.222 0.576 0.529 ... 0.458 0.421 0.104]\n",
            "   [0.079 0.586 0.948 ... 0.146 0.064 0.548]\n",
            "   ...\n",
            "   [0.676 0.474 0.787 ... 0.844 0.663 0.936]\n",
            "   [0.147 0.436 0.681 ... 0.608 0.749 0.032]\n",
            "   [0.938 0.045 0.246 ... 0.49  0.983 0.248]]]\n",
            "\n",
            "\n",
            " [[[0.82  0.05  0.126 ... 0.657 0.514 0.618]\n",
            "   [0.898 0.474 0.452 ... 0.832 0.166 0.472]\n",
            "   [0.836 0.568 0.428 ... 0.196 0.476 0.73 ]\n",
            "   ...\n",
            "   [0.268 0.114 0.101 ... 0.615 0.118 0.016]\n",
            "   [0.529 0.135 0.874 ... 0.365 0.512 0.412]\n",
            "   [0.155 0.985 0.654 ... 0.864 0.347 0.819]]]]\n",
            "y_numpy (2, 10):\n",
            " [[ 4.498 -1.444 -3.774 -0.333  0.798 -0.38   3.357  3.057 -0.524 -3.304]\n",
            " [ 3.81  -1.184 -4.467 -0.311 -0.847 -0.415  2.445  1.12   1.924 -2.522]]\n"
          ]
        }
      ]
    },
    {
      "cell_type": "markdown",
      "source": [
        "### Evaluation Function"
      ],
      "metadata": {
        "id": "OdEAffZKCDRm"
      }
    },
    {
      "cell_type": "code",
      "source": [
        "def func_eval(model,data_iter,device):\n",
        "    with torch.no_grad():\n",
        "        n_total,n_correct = 0,0\n",
        "        model.eval() # evaluate (affects DropOut and BN)\n",
        "        for batch_in,batch_out in data_iter:\n",
        "            y_trgt = batch_out.to(device)\n",
        "            model_pred = model(batch_in.view(-1,1,28,28).to(device))\n",
        "            _,y_pred = torch.max(model_pred.data,1)\n",
        "            n_correct += (y_pred==y_trgt).sum().item()\n",
        "            n_total += batch_in.size(0)\n",
        "        val_accr = (n_correct/n_total)\n",
        "        model.train() # back to train mode \n",
        "    return val_accr\n",
        "print (\"Done\")"
      ],
      "metadata": {
        "id": "IXWW24Gb9qSa",
        "colab": {
          "base_uri": "https://localhost:8080/"
        },
        "outputId": "41b17cd0-6c69-4fcb-f5f7-cfefc3d450df"
      },
      "execution_count": 11,
      "outputs": [
        {
          "output_type": "stream",
          "name": "stdout",
          "text": [
            "Done\n"
          ]
        }
      ]
    },
    {
      "cell_type": "markdown",
      "source": [
        "### Initial Evaluation"
      ],
      "metadata": {
        "id": "jdinnwIZB-1l"
      }
    },
    {
      "cell_type": "code",
      "source": [
        "C.init_param() # initialize parameters\n",
        "train_accr = func_eval(C,train_iter,device)\n",
        "test_accr = func_eval(C,test_iter,device)\n",
        "print (\"train_accr:[%.3f] test_accr:[%.3f].\"%(train_accr,test_accr))"
      ],
      "metadata": {
        "id": "J5dRFvUx9qK3",
        "colab": {
          "base_uri": "https://localhost:8080/"
        },
        "outputId": "d80f7d7a-e296-4df3-d534-82edc7b8b077"
      },
      "execution_count": 12,
      "outputs": [
        {
          "output_type": "stream",
          "name": "stdout",
          "text": [
            "train_accr:[0.084] test_accr:[0.086].\n"
          ]
        }
      ]
    },
    {
      "cell_type": "markdown",
      "source": [
        "### Train"
      ],
      "metadata": {
        "id": "MAVROf1fB9HO"
      }
    },
    {
      "cell_type": "code",
      "source": [
        "print (\"Start training.\")\n",
        "C.init_param() # initialize parameters\n",
        "C.train() # to train mode ## train mode로 바꿔주는 것이 매우매우 중요\n",
        "EPOCHS,print_every = 10,1\n",
        "for epoch in range(EPOCHS):\n",
        "    loss_val_sum = 0\n",
        "    for batch_in,batch_out in train_iter:\n",
        "        # Forward path\n",
        "        y_pred = C.forward(batch_in.view(-1,1,28,28).to(device))\n",
        "        loss_out = loss(y_pred,batch_out.to(device))\n",
        "        # Update\n",
        "        optm.zero_grad()         # reset gradient \n",
        "        loss_out.backward()      # backpropagate\n",
        "        optm.step()              # optimizer update\n",
        "        loss_val_sum += loss_out\n",
        "    loss_val_avg = loss_val_sum/len(train_iter)\n",
        "    # Print\n",
        "    if ((epoch%print_every)==0) or (epoch==(EPOCHS-1)):\n",
        "        train_accr = func_eval(C,train_iter,device)\n",
        "        test_accr = func_eval(C,test_iter,device)\n",
        "        print (\"epoch:[%d] loss:[%.3f] train_accr:[%.3f] test_accr:[%.3f].\"%\n",
        "               (epoch,loss_val_avg,train_accr,test_accr))\n",
        "print(\"Done\")"
      ],
      "metadata": {
        "id": "P7vpN2WQ9qIY",
        "colab": {
          "base_uri": "https://localhost:8080/"
        },
        "outputId": "7a5af250-06ab-44e3-91bf-0302b3baf94a"
      },
      "execution_count": 13,
      "outputs": [
        {
          "output_type": "stream",
          "name": "stdout",
          "text": [
            "Start training.\n",
            "epoch:[0] loss:[0.738] train_accr:[0.949] test_accr:[0.950].\n",
            "epoch:[1] loss:[0.199] train_accr:[0.971] test_accr:[0.971].\n",
            "epoch:[2] loss:[0.138] train_accr:[0.978] test_accr:[0.978].\n",
            "epoch:[3] loss:[0.113] train_accr:[0.981] test_accr:[0.982].\n",
            "epoch:[4] loss:[0.097] train_accr:[0.984] test_accr:[0.983].\n",
            "epoch:[5] loss:[0.087] train_accr:[0.985] test_accr:[0.983].\n",
            "epoch:[6] loss:[0.079] train_accr:[0.988] test_accr:[0.985].\n",
            "epoch:[7] loss:[0.073] train_accr:[0.989] test_accr:[0.987].\n",
            "epoch:[8] loss:[0.066] train_accr:[0.989] test_accr:[0.987].\n",
            "epoch:[9] loss:[0.065] train_accr:[0.990] test_accr:[0.987].\n",
            "Done\n"
          ]
        }
      ]
    },
    {
      "cell_type": "markdown",
      "source": [
        "### Test"
      ],
      "metadata": {
        "id": "evbUUk_VB7up"
      }
    },
    {
      "cell_type": "code",
      "source": [
        "n_sample = 25\n",
        "sample_indices = np.random.choice(len(mnist_test.targets),n_sample,replace=False)\n",
        "test_x = mnist_test.data[sample_indices]\n",
        "test_y = mnist_test.targets[sample_indices]\n",
        "with torch.no_grad():\n",
        "    C.eval() # to evaluation mode \n",
        "    y_pred = C.forward(test_x.view(-1,1,28,28).type(torch.float).to(device)/255.)\n",
        "y_pred = y_pred.argmax(axis=1)\n",
        "plt.figure(figsize=(10,10))\n",
        "for idx in range(n_sample):\n",
        "    plt.subplot(5, 5, idx+1)\n",
        "    plt.imshow(test_x[idx], cmap='gray')\n",
        "    plt.axis('off')\n",
        "    plt.title(\"Pred:%d, Label:%d\"%(y_pred[idx],test_y[idx]))\n",
        "plt.show()    \n",
        "print(\"Done\")"
      ],
      "metadata": {
        "id": "cLXeKQ24B5bl",
        "colab": {
          "base_uri": "https://localhost:8080/",
          "height": 608
        },
        "outputId": "caa40b8b-ef5e-4405-f383-84c058e406f2"
      },
      "execution_count": 14,
      "outputs": [
        {
          "output_type": "display_data",
          "data": {
            "image/png": "[encoded data removed]",
            "text/plain": [
              "<Figure size 720x720 with 25 Axes>"
            ]
          },
          "metadata": {
            "image/png": {
              "width": 569,
              "height": 573
            },
            "needs_background": "light"
          }
        },
        {
          "output_type": "stream",
          "name": "stdout",
          "text": [
            "Done\n"
          ]
        }
      ]
    }
  ]
}